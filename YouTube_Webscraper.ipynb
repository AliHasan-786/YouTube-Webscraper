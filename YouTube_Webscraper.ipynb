{
  "nbformat": 4,
  "nbformat_minor": 0,
  "metadata": {
    "colab": {
      "provenance": [],
      "authorship_tag": "ABX9TyPU24ESd8kkufLt1SVFz6VL",
      "include_colab_link": true
    },
    "kernelspec": {
      "name": "python3",
      "display_name": "Python 3"
    },
    "language_info": {
      "name": "python"
    }
  },
  "cells": [
    {
      "cell_type": "markdown",
      "metadata": {
        "id": "view-in-github",
        "colab_type": "text"
      },
      "source": [
        "<a href=\"https://colab.research.google.com/github/AliHasan-786/YouTube-Webscraper/blob/main/YouTube_Webscraper.ipynb\" target=\"_parent\"><img src=\"https://colab.research.google.com/assets/colab-badge.svg\" alt=\"Open In Colab\"/></a>"
      ]
    },
    {
      "cell_type": "code",
      "execution_count": 23,
      "metadata": {
        "colab": {
          "base_uri": "https://localhost:8080/"
        },
        "id": "2JIbp837pUOG",
        "outputId": "2d668332-42cb-43dc-90b3-c60e2e965f6a"
      },
      "outputs": [
        {
          "output_type": "stream",
          "name": "stdout",
          "text": [
            "Requirement already satisfied: pytube in /usr/local/lib/python3.10/dist-packages (15.0.0)\n",
            "Requirement already satisfied: pytube in /usr/local/lib/python3.10/dist-packages (15.0.0)\n"
          ]
        }
      ],
      "source": [
        "!pip install pytube\n",
        "!pip install --upgrade pytube\n",
        "from pytube import YouTube"
      ]
    },
    {
      "cell_type": "code",
      "source": [
        "link = input(\"Enter Link of YouTube Video: \")\n",
        "yt = YouTube(link)"
      ],
      "metadata": {
        "colab": {
          "base_uri": "https://localhost:8080/"
        },
        "id": "GTOLFuV2pkP5",
        "outputId": "5ddd5a65-741e-4e97-c0fb-a24f6a31a133"
      },
      "execution_count": 24,
      "outputs": [
        {
          "name": "stdout",
          "output_type": "stream",
          "text": [
            "Enter Link of YouTube Video: https://youtu.be/iS-1tDfLxRQ?si=-lCZ6UsSxYZLi5vF\n"
          ]
        }
      ]
    },
    {
      "cell_type": "code",
      "source": [
        "print(\"Title: \", yt.title)\n",
        "print(\"Views: \", yt.views)\n",
        "print(\"Duration: \", yt.length)\n",
        "print(\"Description:\", yt.description)\n",
        "print(\"Ratings:\", yt.rating)"
      ],
      "metadata": {
        "id": "D_LOAR4urCFj",
        "colab": {
          "base_uri": "https://localhost:8080/"
        },
        "outputId": "348c0f50-992c-47fd-eb9d-f90e7bf092bf"
      },
      "execution_count": 25,
      "outputs": [
        {
          "output_type": "stream",
          "name": "stdout",
          "text": [
            "Title:  Nintendo Switch - Reveal Trailer\n",
            "Views:  318689\n",
            "Duration:  217\n",
            "Description: None\n",
            "Ratings: None\n"
          ]
        }
      ]
    },
    {
      "cell_type": "code",
      "source": [
        "#Will only download if using Python or Jupyter Notebook\n",
        "stream = yt.streams.get_highest_resolution()\n",
        "stream.download()\n",
        "print(\"Download completed!\")"
      ],
      "metadata": {
        "id": "84mKzohCtt-F",
        "colab": {
          "base_uri": "https://localhost:8080/"
        },
        "outputId": "423eec51-2179-4c9b-faba-a6c86d08822e"
      },
      "execution_count": 26,
      "outputs": [
        {
          "output_type": "stream",
          "name": "stdout",
          "text": [
            "Download completed!\n"
          ]
        }
      ]
    }
  ]
}